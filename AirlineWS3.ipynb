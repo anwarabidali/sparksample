{
 "cells": [
  {
   "cell_type": "code",
   "execution_count": 1,
   "id": "58b5f23a",
   "metadata": {},
   "outputs": [
    {
     "data": {
      "application/vnd.jupyter.widget-view+json": {
       "model_id": "0df11ede20b2418982968fa9baa1bb06",
       "version_major": 2,
       "version_minor": 0
      },
      "text/plain": [
       "VBox()"
      ]
     },
     "metadata": {},
     "output_type": "display_data"
    },
    {
     "name": "stdout",
     "output_type": "stream",
     "text": [
      "Starting Spark application\n"
     ]
    },
    {
     "data": {
      "text/html": [
       "<table>\n<tbody><tr><th>ID</th><th>YARN Application ID</th><th>Kind</th><th>State</th><th>Spark UI</th><th>Driver log</th><th>Current session?</th></tr><tr><td>2</td><td>application_1629808063391_0003</td><td>pyspark</td><td>idle</td><td><a target=\"_blank\" href=\"http://ip-172-31-40-241.ap-south-1.compute.internal:20888/proxy/application_1629808063391_0003/\" class=\"emr-proxy-link j-XHFKO7CYZ5PI application_1629808063391_0003\" emr-resource=\"j-XHFKO7CYZ5PI\n\" application-id=\"application_1629808063391_0003\">Link</a></td><td><a target=\"_blank\" href=\"http://ip-172-31-42-60.ap-south-1.compute.internal:8042/node/containerlogs/container_1629808063391_0003_01_000001/livy\">Link</a></td><td>✔</td></tr></tbody></table>"
      ],
      "text/plain": [
       "<IPython.core.display.HTML object>"
      ]
     },
     "metadata": {},
     "output_type": "display_data"
    },
    {
     "data": {
      "application/vnd.jupyter.widget-view+json": {
       "model_id": "",
       "version_major": 2,
       "version_minor": 0
      },
      "text/plain": [
       "FloatProgress(value=0.0, bar_style='info', description='Progress:', layout=Layout(height='25px', width='50%'),…"
      ]
     },
     "metadata": {},
     "output_type": "display_data"
    },
    {
     "name": "stdout",
     "output_type": "stream",
     "text": [
      "SparkSession available as 'spark'.\n"
     ]
    },
    {
     "data": {
      "application/vnd.jupyter.widget-view+json": {
       "model_id": "",
       "version_major": 2,
       "version_minor": 0
      },
      "text/plain": [
       "FloatProgress(value=0.0, bar_style='info', description='Progress:', layout=Layout(height='25px', width='50%'),…"
      ]
     },
     "metadata": {},
     "output_type": "display_data"
    }
   ],
   "source": [
    "df = spark.read.csv(\"s3://airportsparkcsvdata/Airports2.csv\", header=True, inferSchema=True)\n",
    "df.registerTempTable('df')"
   ]
  },
  {
   "cell_type": "code",
   "execution_count": 2,
   "id": "0d70dec1",
   "metadata": {},
   "outputs": [
    {
     "data": {
      "application/vnd.jupyter.widget-view+json": {
       "model_id": "c02c20c441224a929b49c26fa911a94c",
       "version_major": 2,
       "version_minor": 0
      },
      "text/plain": [
       "VBox()"
      ]
     },
     "metadata": {},
     "output_type": "display_data"
    },
    {
     "data": {
      "application/vnd.jupyter.widget-view+json": {
       "model_id": "",
       "version_major": 2,
       "version_minor": 0
      },
      "text/plain": [
       "FloatProgress(value=0.0, bar_style='info', description='Progress:', layout=Layout(height='25px', width='50%'),…"
      ]
     },
     "metadata": {},
     "output_type": "display_data"
    },
    {
     "name": "stdout",
     "output_type": "stream",
     "text": [
      "root\n",
      " |-- Origin_airport: string (nullable = true)\n",
      " |-- Destination_airport: string (nullable = true)\n",
      " |-- Origin_city: string (nullable = true)\n",
      " |-- Destination_city: string (nullable = true)\n",
      " |-- Passengers: integer (nullable = true)\n",
      " |-- Seats: integer (nullable = true)\n",
      " |-- Flights: integer (nullable = true)\n",
      " |-- Distance: integer (nullable = true)\n",
      " |-- Fly_date: string (nullable = true)\n",
      " |-- Origin_population: integer (nullable = true)\n",
      " |-- Destination_population: integer (nullable = true)\n",
      " |-- Org_airport_lat: string (nullable = true)\n",
      " |-- Org_airport_long: string (nullable = true)\n",
      " |-- Dest_airport_lat: string (nullable = true)\n",
      " |-- Dest_airport_long: string (nullable = true)"
     ]
    }
   ],
   "source": [
    "df.printSchema()"
   ]
  },
  {
   "cell_type": "code",
   "execution_count": 3,
   "id": "12dc10e4",
   "metadata": {},
   "outputs": [
    {
     "data": {
      "application/vnd.jupyter.widget-view+json": {
       "model_id": "37b592bc4d0e484c8354b3f8c43123b4",
       "version_major": 2,
       "version_minor": 0
      },
      "text/plain": [
       "VBox()"
      ]
     },
     "metadata": {},
     "output_type": "display_data"
    },
    {
     "data": {
      "application/vnd.jupyter.widget-view+json": {
       "model_id": "",
       "version_major": 2,
       "version_minor": 0
      },
      "text/plain": [
       "FloatProgress(value=0.0, bar_style='info', description='Progress:', layout=Layout(height='25px', width='50%'),…"
      ]
     },
     "metadata": {},
     "output_type": "display_data"
    },
    {
     "name": "stdout",
     "output_type": "stream",
     "text": [
      "+-------+--------------+-------------------+--------------+----------------+------------------+-----------------+------------------+-----------------+----------+-----------------+----------------------+------------------+------------------+-----------------+------------------+\n",
      "|summary|Origin_airport|Destination_airport|   Origin_city|Destination_city|        Passengers|            Seats|           Flights|         Distance|  Fly_date|Origin_population|Destination_population|   Org_airport_lat|  Org_airport_long| Dest_airport_lat| Dest_airport_long|\n",
      "+-------+--------------+-------------------+--------------+----------------+------------------+-----------------+------------------+-----------------+----------+-----------------+----------------------+------------------+------------------+-----------------+------------------+\n",
      "|  count|       3606803|            3606803|       3606803|         3606803|           3606803|          3606803|           3606803|          3606803|   3606803|          3606803|               3606803|           3606803|           3606803|          3606803|           3606803|\n",
      "|   mean|          null|               null|          null|            null|2688.9104331453646|4048.297368888736| 37.22889855642241|697.3190326724249|      null| 5871502.49894491|      5897982.44118434|37.750289955901664|-91.86177935715813|37.74090832973531|-91.83432738662697|\n",
      "| stddev|          null|               null|          null|            null|  4347.61704769634|6200.871210153885|49.619697799496414|604.4165108483492|      null|7858061.601821028|     7906127.406405261| 5.765453283976701|16.537733702683525|5.736555536048647|16.472284529884853|\n",
      "|    min|           1B1|                1B1|  Aberdeen, SD|    Aberdeen, SD|                 0|                0|                 0|                0|1990-01-01|            13005|                 12887|   19.721399307251|      -100.2860031|  19.721399307251|      -100.2860031|\n",
      "|    max|           ZZV|                ZZV|Zanesville, OH|  Zanesville, OH|             89597|           147062|              1128|             5095|2009-12-01|         38139592|              38139592|                NA|                NA|               NA|                NA|\n",
      "+-------+--------------+-------------------+--------------+----------------+------------------+-----------------+------------------+-----------------+----------+-----------------+----------------------+------------------+------------------+-----------------+------------------+"
     ]
    }
   ],
   "source": [
    "df.describe().show()"
   ]
  },
  {
   "cell_type": "code",
   "execution_count": 4,
   "id": "92efeefc",
   "metadata": {},
   "outputs": [
    {
     "data": {
      "application/vnd.jupyter.widget-view+json": {
       "model_id": "7cad233612fe4020a4e2d90da0539afb",
       "version_major": 2,
       "version_minor": 0
      },
      "text/plain": [
       "VBox()"
      ]
     },
     "metadata": {},
     "output_type": "display_data"
    },
    {
     "data": {
      "application/vnd.jupyter.widget-view+json": {
       "model_id": "",
       "version_major": 2,
       "version_minor": 0
      },
      "text/plain": [
       "FloatProgress(value=0.0, bar_style='info', description='Progress:', layout=Layout(height='25px', width='50%'),…"
      ]
     },
     "metadata": {},
     "output_type": "display_data"
    },
    {
     "name": "stdout",
     "output_type": "stream",
     "text": [
      "3606803"
     ]
    }
   ],
   "source": [
    "df.count()"
   ]
  },
  {
   "cell_type": "code",
   "execution_count": 5,
   "id": "ae2be519",
   "metadata": {},
   "outputs": [
    {
     "data": {
      "application/vnd.jupyter.widget-view+json": {
       "model_id": "eab816a0af6544ec9808131b68bec284",
       "version_major": 2,
       "version_minor": 0
      },
      "text/plain": [
       "VBox()"
      ]
     },
     "metadata": {},
     "output_type": "display_data"
    },
    {
     "data": {
      "application/vnd.jupyter.widget-view+json": {
       "model_id": "",
       "version_major": 2,
       "version_minor": 0
      },
      "text/plain": [
       "FloatProgress(value=0.0, bar_style='info', description='Progress:', layout=Layout(height='25px', width='50%'),…"
      ]
     },
     "metadata": {},
     "output_type": "display_data"
    },
    {
     "name": "stdout",
     "output_type": "stream",
     "text": [
      "+--------------+-------------------+----------+-----+\n",
      "|Origin_airport|Destination_airport|Passengers|Seats|\n",
      "+--------------+-------------------+----------+-----+\n",
      "|           MHK|                AMW|        21|   30|\n",
      "|           EUG|                RDM|        41|  396|\n",
      "|           EUG|                RDM|        88|  342|\n",
      "|           EUG|                RDM|        11|   72|\n",
      "|           MFR|                RDM|         0|   18|\n",
      "|           MFR|                RDM|        11|   18|\n",
      "|           MFR|                RDM|         2|   72|\n",
      "|           MFR|                RDM|         7|   18|\n",
      "|           MFR|                RDM|         7|   36|\n",
      "|           SEA|                RDM|         8|   18|\n",
      "|           SEA|                RDM|       453| 3128|\n",
      "|           SEA|                RDM|       784| 2720|\n",
      "|           SEA|                RDM|       749| 2992|\n",
      "|           SEA|                RDM|        11|   18|\n",
      "|           PDX|                RDM|       349|  851|\n",
      "+--------------+-------------------+----------+-----+\n",
      "only showing top 15 rows"
     ]
    }
   ],
   "source": [
    "df.select(\"Origin_airport\",\"Destination_airport\",\"Passengers\",\"Seats\").show(15)"
   ]
  },
  {
   "cell_type": "code",
   "execution_count": 6,
   "id": "7664305f",
   "metadata": {},
   "outputs": [
    {
     "data": {
      "application/vnd.jupyter.widget-view+json": {
       "model_id": "703fc0a092034d1fa8e7f1be52434726",
       "version_major": 2,
       "version_minor": 0
      },
      "text/plain": [
       "VBox()"
      ]
     },
     "metadata": {},
     "output_type": "display_data"
    },
    {
     "data": {
      "application/vnd.jupyter.widget-view+json": {
       "model_id": "",
       "version_major": 2,
       "version_minor": 0
      },
      "text/plain": [
       "FloatProgress(value=0.0, bar_style='info', description='Progress:', layout=Layout(height='25px', width='50%'),…"
      ]
     },
     "metadata": {},
     "output_type": "display_data"
    },
    {
     "name": "stdout",
     "output_type": "stream",
     "text": [
      "+--------------+---------------+\n",
      "|Origin_airport|sum(Passengers)|\n",
      "+--------------+---------------+\n",
      "|           BGM|        1876537|\n",
      "|           VWD|              0|\n",
      "|           GEG|       23872254|\n",
      "|           OPF|           7534|\n",
      "|           MYR|       10386029|\n",
      "|           CNW|              0|\n",
      "|           EAR|           2548|\n",
      "|           MQT|         720004|\n",
      "|           YKN|              0|\n",
      "|           GWO|             45|\n",
      "+--------------+---------------+\n",
      "only showing top 10 rows"
     ]
    }
   ],
   "source": [
    "from pyspark.sql import functions as F\n",
    "from pyspark.sql.functions import col\n",
    "from pyspark.sql.functions import desc\n",
    "\n",
    "airportAgg_DF = df.groupBy(\"Origin_airport\").agg(F.sum(\"Passengers\"))\n",
    "airportAgg_DF.show(10)"
   ]
  },
  {
   "cell_type": "code",
   "execution_count": 7,
   "id": "1f9de5a0",
   "metadata": {},
   "outputs": [
    {
     "data": {
      "application/vnd.jupyter.widget-view+json": {
       "model_id": "aa17b668d4c4445698cccc3c20985c60",
       "version_major": 2,
       "version_minor": 0
      },
      "text/plain": [
       "VBox()"
      ]
     },
     "metadata": {},
     "output_type": "display_data"
    },
    {
     "data": {
      "application/vnd.jupyter.widget-view+json": {
       "model_id": "",
       "version_major": 2,
       "version_minor": 0
      },
      "text/plain": [
       "FloatProgress(value=0.0, bar_style='info', description='Progress:', layout=Layout(height='25px', width='50%'),…"
      ]
     },
     "metadata": {},
     "output_type": "display_data"
    },
    {
     "name": "stdout",
     "output_type": "stream",
     "text": [
      "+--------------+-------+\n",
      "|Origin_Airport|Flights|\n",
      "+--------------+-------+\n",
      "|           ORD|6908482|\n",
      "|           ATL|6558015|\n",
      "|           DFW|5994638|\n",
      "|           LAX|4099901|\n",
      "|           DTW|3452613|\n",
      "|           PHX|3213108|\n",
      "|           MSP|3204923|\n",
      "|           IAH|3195062|\n",
      "|           STL|3181102|\n",
      "|           CLT|2840773|\n",
      "+--------------+-------+"
     ]
    }
   ],
   "source": [
    "originAirports = sqlContext.sql(\"\"\"select Origin_Airport, sum(Flights) as Flights \n",
    "                                    from df group by Origin_Airport order by sum(Flights) DESC limit 10\"\"\")\n",
    "originAirports.show()"
   ]
  },
  {
   "cell_type": "code",
   "execution_count": 8,
   "id": "1a04cbeb",
   "metadata": {},
   "outputs": [
    {
     "data": {
      "application/vnd.jupyter.widget-view+json": {
       "model_id": "6c186e77d7a64a7da66a96d3db81cf3c",
       "version_major": 2,
       "version_minor": 0
      },
      "text/plain": [
       "VBox()"
      ]
     },
     "metadata": {},
     "output_type": "display_data"
    },
    {
     "data": {
      "application/vnd.jupyter.widget-view+json": {
       "model_id": "",
       "version_major": 2,
       "version_minor": 0
      },
      "text/plain": [
       "FloatProgress(value=0.0, bar_style='info', description='Progress:', layout=Layout(height='25px', width='50%'),…"
      ]
     },
     "metadata": {},
     "output_type": "display_data"
    },
    {
     "name": "stdout",
     "output_type": "stream",
     "text": [
      "+-------------------+----------+\n",
      "|Destination_airport|Passengers|\n",
      "+-------------------+----------+\n",
      "|                ATL| 577954147|\n",
      "|                ORD| 528648148|\n",
      "|                DFW| 458322527|\n",
      "|                LAX| 389476602|\n",
      "|                PHX| 295580444|\n",
      "|                LAS| 269145891|\n",
      "|                DTW| 251467874|\n",
      "|                MSP| 245774036|\n",
      "|                SFO| 242283245|\n",
      "|                IAH| 229105403|\n",
      "+-------------------+----------+"
     ]
    }
   ],
   "source": [
    "destinationAirports = sqlContext.sql(\"\"\"select Destination_airport, sum(Passengers) as Passengers \n",
    "                                    from df group by Destination_airport order by sum(Passengers) DESC limit 10\"\"\")\n",
    "destinationAirports.show()"
   ]
  },
  {
   "cell_type": "code",
   "execution_count": 9,
   "id": "fb50a71e",
   "metadata": {},
   "outputs": [
    {
     "data": {
      "application/vnd.jupyter.widget-view+json": {
       "model_id": "8d8c51fe3cc541f4b92a95494d6c6bfe",
       "version_major": 2,
       "version_minor": 0
      },
      "text/plain": [
       "VBox()"
      ]
     },
     "metadata": {},
     "output_type": "display_data"
    },
    {
     "data": {
      "application/vnd.jupyter.widget-view+json": {
       "model_id": "",
       "version_major": 2,
       "version_minor": 0
      },
      "text/plain": [
       "FloatProgress(value=0.0, bar_style='info', description='Progress:', layout=Layout(height='25px', width='50%'),…"
      ]
     },
     "metadata": {},
     "output_type": "display_data"
    },
    {
     "name": "stdout",
     "output_type": "stream",
     "text": [
      "+-------+-------------+\n",
      "|Airport|Total_Flights|\n",
      "+-------+-------------+\n",
      "|    ORD|     13804767|\n",
      "|    ATL|     13102774|\n",
      "|    DFW|     11982524|\n",
      "|    LAX|      8196603|\n",
      "|    DTW|      6900655|\n",
      "|    PHX|      6421985|\n",
      "|    MSP|      6405105|\n",
      "|    IAH|      6391830|\n",
      "|    STL|      6358741|\n",
      "|    CLT|      5677880|\n",
      "|    EWR|      5620104|\n",
      "|    LGA|      5368743|\n",
      "|    PHL|      5344278|\n",
      "|    SEA|      5158456|\n",
      "|    LAS|      5040914|\n",
      "+-------+-------------+"
     ]
    }
   ],
   "source": [
    "MostFlightsByAirports = sqlContext.sql(\"\"\"with destination as (select Destination_airport as Airport, sum(Flights) as Out_Flights \n",
    "                                    from df group by Destination_airport),\n",
    "                                    origin as (select Origin_airport as Airport, sum(Flights) as In_Flights \n",
    "                                    from df group by Origin_airport)\n",
    "                                    select origin.Airport, (destination.Out_Flights+origin.In_Flights) as Total_Flights\n",
    "                                    from origin, destination \n",
    "                                    where origin.Airport = destination.Airport\n",
    "                                    order by (origin.In_Flights + destination.Out_Flights) DESC\n",
    "                                    limit 15\"\"\")\n",
    "MostFlightsByAirports.show()"
   ]
  },
  {
   "cell_type": "code",
   "execution_count": 10,
   "id": "6813c17d",
   "metadata": {},
   "outputs": [
    {
     "data": {
      "application/vnd.jupyter.widget-view+json": {
       "model_id": "081de2d6d32e4407bda3603ad81127e4",
       "version_major": 2,
       "version_minor": 0
      },
      "text/plain": [
       "VBox()"
      ]
     },
     "metadata": {},
     "output_type": "display_data"
    },
    {
     "data": {
      "application/vnd.jupyter.widget-view+json": {
       "model_id": "",
       "version_major": 2,
       "version_minor": 0
      },
      "text/plain": [
       "FloatProgress(value=0.0, bar_style='info', description='Progress:', layout=Layout(height='25px', width='50%'),…"
      ]
     },
     "metadata": {},
     "output_type": "display_data"
    },
    {
     "name": "stdout",
     "output_type": "stream",
     "text": [
      "+--------+--------+-------+----------+--------+------------------+\n",
      "|Airport1|Airport2|Flights|Passengers|   Seats|    Occupancy_Rate|\n",
      "+--------+--------+-------+----------+--------+------------------+\n",
      "|     HNL|     OGG| 784873|  62109354|96640901| 64.26818599300931|\n",
      "|     LAX|     SFO| 636449|  51119989|79405656|  64.3782717442697|\n",
      "|     LAS|     LAX| 588151|  52511530|80532768| 65.20517213564546|\n",
      "|     PDX|     SEA| 565707|  18475771|34650955| 53.31965886654495|\n",
      "|     LAX|     PHX| 515093|  42695385|65619395| 65.06519147273455|\n",
      "|     BOS|     LGA| 470737|  31242486|64897330| 48.14140427657039|\n",
      "|     MSP|     ORD| 467514|  31301666|55325318|56.577471457100344|\n",
      "|     LAS|     PHX| 460104|  42979048|64844100| 66.28058373853597|\n",
      "|     DCA|     LGA| 439107|  29471657|60663368|   48.582295991215|\n",
      "|     LAX|     SAN| 431076|  11686171|22820096|51.209999291852235|\n",
      "|     LGA|     ORD| 424272|  39981416|59616532| 67.06431028225526|\n",
      "|     DAL|     HOU| 408273|  35573141|53054549| 67.05012420329876|\n",
      "|     ATL|     DFW| 399696|  42941213|59978776| 71.59401352238332|\n",
      "|     LAX|     OAK| 381677|  30429561|47045709| 64.68084262477583|\n",
      "|     EWR|     ORD| 372054|  31122785|50434853| 61.70888413216947|\n",
      "+--------+--------+-------+----------+--------+------------------+"
     ]
    }
   ],
   "source": [
    "distanceQuery = sqlContext.sql(\"\"\"with table1 as \n",
    "                                    (select least(Origin_airport, Destination_airport) as Airport1, \n",
    "                                    greatest(Destination_airport, Origin_airport) as Airport2, \n",
    "                                    sum(Flights) as Flights,\n",
    "                                    sum(Passengers) as Passengers,\n",
    "                                    sum(Seats) as Seats\n",
    "                                    from df\n",
    "                                    group by least(Origin_airport, Destination_airport), greatest(Destination_airport, Origin_airport)\n",
    "                                    order by 1,2)\n",
    "                                    select t.*, (Passengers*100/Seats) as Occupancy_Rate\n",
    "                                    from table1 t\n",
    "                                    order by Flights DESC, Seats DESC, Passengers DESC, Occupancy_Rate DESC\n",
    "                                    limit 15;\"\"\")\n",
    "distanceQuery = distanceQuery.filter((col(\"Occupancy_Rate\").isNotNull()) & (col(\"Occupancy_Rate\")<=100.0))\n",
    "distanceQuery.show(15)"
   ]
  },
  {
   "cell_type": "code",
   "execution_count": null,
   "id": "8289f170",
   "metadata": {},
   "outputs": [],
   "source": []
  }
 ],
 "metadata": {
  "kernelspec": {
   "display_name": "PySpark",
   "language": "",
   "name": "pysparkkernel"
  },
  "language_info": {
   "codemirror_mode": {
    "name": "python",
    "version": 3
   },
   "mimetype": "text/x-python",
   "name": "pyspark",
   "pygments_lexer": "python3"
  }
 },
 "nbformat": 4,
 "nbformat_minor": 5
}
